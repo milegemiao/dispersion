{
 "cells": [
  {
   "cell_type": "markdown",
   "metadata": {},
   "source": [
    "# Formula derivation\n",
    "\n",
    "$\\omega ^{2}=gktanh(kH)$\n",
    "\n",
    "Let \n",
    "\n",
    "$k=\\frac{2\\pi}{\\lambda}$  ,  $\\omega=\\frac{2\\pi}{T}$\n",
    "\n",
    "Therefore,\n",
    "\n",
    "$\\lambda=\\frac{gT^2}{2\\pi}tanh(kH)$\n",
    "\n",
    "When\n",
    "\n",
    "$H\\rightarrow \\infty$  \n",
    "\n",
    "$tanh(kH)\\rightarrow 1$\n",
    "\n",
    "Then\n",
    "\n",
    "$\\lambda_{0}=\\frac{gT^2}{2\\pi }$\n",
    "\n",
    "Back to the general situiation,\n",
    "\n",
    "$\\lambda=\\lambda_{0}tanh(kH)$\n",
    "\n",
    "It means the wavelength will become smaller with the decreasing of depth H.\n",
    "\n",
    "For given period T and water depth H, use implicit function \n",
    "\n",
    "$\\lambda =\\lambda _{0}tanh(\\frac{2\\pi H}{\\lambda })$\n",
    "\n",
    "to calculate wavelength.\n",
    "\n",
    "The following is calculating the wavelength via numerical method.\n"
   ]
  },
  {
   "cell_type": "markdown",
   "metadata": {},
   "source": [
    "# Numerical calculation"
   ]
  },
  {
   "cell_type": "code",
   "execution_count": 1,
   "metadata": {},
   "outputs": [],
   "source": [
    "import numpy as np\n",
    "import matplotlib.pyplot as plt"
   ]
  },
  {
   "cell_type": "code",
   "execution_count": 2,
   "metadata": {},
   "outputs": [],
   "source": [
    "def disp(T,d):\n",
    "    g = 9.8\n",
    "    L0 = g * T**2 / 2 * np.pi\n",
    "    esp = np.exp(-10) \n",
    "    L1 = 15 * T**2\n",
    "    L = L0 * np.tanh(2 * np.pi * d/L1)\n",
    "\n",
    "    while (L-L1) > esp:\n",
    "        L1 = 0.5 * (L + L1)\n",
    "        L = L0 * np.tanh(2 * np.pi * d/L1)\n",
    "    \n",
    "    #k = 2 * np.pi / L\n",
    "    return L#,k"
   ]
  },
  {
   "cell_type": "code",
   "execution_count": 3,
   "metadata": {},
   "outputs": [
    {
     "data": {
      "text/plain": [
       "15.38507489253029"
      ]
     },
     "execution_count": 3,
     "metadata": {},
     "output_type": "execute_result"
    }
   ],
   "source": [
    "disp(1,10)"
   ]
  },
  {
   "cell_type": "code",
   "execution_count": 4,
   "metadata": {},
   "outputs": [],
   "source": [
    "T = 10\n",
    "d = np.linspace(1000,10,1000)\n",
    "L = []\n",
    "for i in d:\n",
    "    tem = disp(T,i)\n",
    "    L.append(tem)"
   ]
  },
  {
   "cell_type": "code",
   "execution_count": 5,
   "metadata": {},
   "outputs": [
    {
     "data": {
      "image/png": "[encoded data removed]",
      "text/plain": [
       "<Figure size 432x288 with 1 Axes>"
      ]
     },
     "metadata": {
      "needs_background": "light"
     },
     "output_type": "display_data"
    }
   ],
   "source": [
    "plt.semilogx(d,L)\n",
    "plt.title('Wavelength changing to water depth, T=10s')\n",
    "plt.xlabel('water depth(m)')\n",
    "plt.ylabel('wavelength(m)')\n",
    "plt.grid(which='both')\n",
    "plt.show()"
   ]
  },
  {
   "cell_type": "code",
   "execution_count": null,
   "metadata": {},
   "outputs": [],
   "source": []
  }
 ],
 "metadata": {
  "kernelspec": {
   "display_name": "Python 3",
   "language": "python",
   "name": "python3"
  },
  "language_info": {
   "codemirror_mode": {
    "name": "ipython",
    "version": 3
   },
   "file_extension": ".py",
   "mimetype": "text/x-python",
   "name": "python",
   "nbconvert_exporter": "python",
   "pygments_lexer": "ipython3",
   "version": "3.7.0"
  }
 },
 "nbformat": 4,
 "nbformat_minor": 2
}
